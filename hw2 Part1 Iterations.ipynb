{
 "cells": [
  {
   "cell_type": "code",
   "execution_count": 1,
   "id": "bccd1d9c",
   "metadata": {},
   "outputs": [],
   "source": [
    "import numpy as np\n",
    "import re\n",
    "import math\n",
    "import matplotlib.pyplot as plt\n",
    "import time\n",
    "\n",
    "iterations = [5, 10, 15, 20, 25, 30, 35, 40, 45, 50]"
   ]
  },
  {
   "cell_type": "code",
   "execution_count": 2,
   "id": "c1c2d85e",
   "metadata": {},
   "outputs": [],
   "source": [
    "def process_dataset(filename):\n",
    "    file = open(filename, 'r')\n",
    "    data = []\n",
    "    arr = []\n",
    "    for line in file:\n",
    "        numbers = re.findall(r'-?\\d+(?:\\.\\d+)?', line)\n",
    "        numbers = [int(num) if '.' not in num else float(num) for num in numbers]\n",
    "        data.append(numbers)\n",
    "    data = np.array(data)\n",
    "\n",
    "    users_size = int(data[0][0])\n",
    "    item_size = int(data[0][1])\n",
    "    m = np.zeros((users_size, item_size))\n",
    "    data = data[1:]\n",
    "    train_data = data[:data.shape[0]//2]\n",
    "    test_data = data[data.shape[0]//2:]\n",
    "    \n",
    "    for i in range(train_data.shape[0]):\n",
    "        m[int(train_data[i][0])][int(train_data[i][1])] = train_data[i][2]\n",
    "\n",
    "    return users_size, item_size, m, train_data, test_data"
   ]
  },
  {
   "cell_type": "code",
   "execution_count": 3,
   "id": "f3a610d2",
   "metadata": {},
   "outputs": [],
   "source": [
    "def variational_bayes(m, users_size, item_size, rank, train_data, iterations):\n",
    "    Phi = [np.identity(rank)] * users_size\n",
    "    Psi = [np.identity(rank)] * item_size\n",
    "\n",
    "    rho_sq = [1/rank] * rank\n",
    "    sigma_sq = [1] * rank\n",
    "    Tau_sq = 1\n",
    "    \n",
    "    mean_u = np.random.normal(loc=0, scale=1, size=(users_size, rank))\n",
    "    mean_v = np.random.normal(loc=0, scale=1, size=(item_size, rank)) \n",
    "    \n",
    "    while iterations > 0:\n",
    "        mean_uv_error = []\n",
    "        \n",
    "        #E-step\n",
    "        for i in range(users_size):\n",
    "            mean_u_old = np.copy(mean_u[i])\n",
    "            S_i = np.identity(rank)\n",
    "            for l in range(rank):\n",
    "                S_i[l][l] = S_i[l][l] * (1/sigma_sq[l])\n",
    "            sum1 = 0\n",
    "            sum2 = 0\n",
    "            for u, j, s in train_data:\n",
    "                if i == int(u):\n",
    "                    j = int(j)\n",
    "                    sum1 += (Psi[j] + np.outer(mean_v[j], mean_v[j].T))/Tau_sq\n",
    "                    sum2 += (m[i][j] * mean_v[j])/Tau_sq\n",
    "            sum1 += np.zeros((rank,rank))\n",
    "            sum2 += np.zeros(rank)\n",
    "            Phi[i] = np.linalg.inv(S_i + sum1)\n",
    "            mean_u[i] = np.dot(Phi[i], sum2)\n",
    "            error = np.linalg.norm(mean_u[i] - mean_u_old)\n",
    "            mean_uv_error.append(error)\n",
    "            \n",
    "        for j in range(item_size):\n",
    "            mean_v_old = np.copy(mean_v[j])\n",
    "            S_j = np.identity(rank)\n",
    "            for l in range(rank):\n",
    "                S_j[l][l] = S_j[l][l] * (1/rho_sq[l])\n",
    "            sum1 = 0\n",
    "            sum2 = 0\n",
    "            for i, it, s in train_data:\n",
    "                if j == int(it):\n",
    "                    i = int(i)\n",
    "                    sum1 += (Phi[i] + np.outer(mean_u[i], mean_u[i].T))/Tau_sq\n",
    "                    sum2 += (m[i][j] * mean_u[i])/Tau_sq\n",
    "            sum2 += np.zeros(rank)\n",
    "            sum1 += np.zeros((rank,rank))\n",
    "            Psi[j] = np.linalg.inv(S_j + sum1)\n",
    "            mean_v[j] = np.dot(Psi[j], sum2)\n",
    "            error = np.linalg.norm(mean_v[j] - mean_v_old)\n",
    "            mean_uv_error.append(error)\n",
    "            \n",
    "            #M-Step\n",
    "        for l in range(rank):\n",
    "            temp = 0\n",
    "            for i in range(users_size):\n",
    "                temp += Phi[i][l][l] + (mean_u[i][l] ** 2)\n",
    "            sigma_sq[l] = (1/(users_size - 1)) * temp\n",
    "            \n",
    "        sum = 0\n",
    "        K = train_data.shape[0]\n",
    "        for i, j, s in train_data:\n",
    "            i = int(i)\n",
    "            j = int(j)\n",
    "            temp1 = Phi[i] + np.outer(mean_u[i],mean_u[i].T)\n",
    "            temp2 = Psi[j] + np.outer(mean_v[j],mean_v[j].T)\n",
    "            temp3 = temp1 * temp2\n",
    "            sum += (m[i][j] ** 2) - (2 * m[i][j] * np.dot(mean_u[i],mean_v[j].T)) + np.sum(temp3)\n",
    "        Tau_sq = (1/(K-1)) * sum\n",
    "        \n",
    "        \n",
    "        if np.max(abs(np.array(mean_uv_error))) < 0.01:\n",
    "            break\n",
    "        iterations -= 1\n",
    "    \n",
    "    \n",
    "        \n",
    "    return mean_u, mean_v"
   ]
  },
  {
   "cell_type": "code",
   "execution_count": 4,
   "id": "177fc861",
   "metadata": {},
   "outputs": [],
   "source": [
    "def baseline_model(filename):\n",
    "    users_size, item_size, m, train_data, test_data = process_dataset(filename)\n",
    "    N = train_data.shape[0]\n",
    "    sum = 0\n",
    "    for i, j, score in train_data:\n",
    "        sum += score\n",
    "    c = sum/N\n",
    "    \n",
    "    a = [0] * users_size\n",
    "    for i in range (users_size):\n",
    "        sum = 0\n",
    "        N=0\n",
    "        for user, item, score in train_data:\n",
    "            if i == int(user):\n",
    "                N += 1\n",
    "                sum += score\n",
    "        if N != 0:\n",
    "            a[i] = sum / N\n",
    "        else:\n",
    "            a[i] = c\n",
    "    b = [0] * item_size\n",
    "    for j in range (item_size):\n",
    "        sum = 0\n",
    "        N=0\n",
    "        for user, item, score in train_data:\n",
    "            if j == int(item):\n",
    "                N += 1\n",
    "                sum += score\n",
    "        if N != 0:\n",
    "            b[j] = sum / N\n",
    "        else:\n",
    "            b[j] = c\n",
    "\n",
    "    N = test_data.shape[0]\n",
    "    sum_error = 0\n",
    "    for i, j, score in test_data:\n",
    "        i = int(i)\n",
    "        j = int(j)\n",
    "        pred_value = (a[i] + b[j])/2\n",
    "        sum_error += ((pred_value) - score) ** 2\n",
    "    rmse = math.sqrt(sum_error/N)\n",
    "    return rmse"
   ]
  },
  {
   "cell_type": "code",
   "execution_count": 5,
   "id": "f79d158d",
   "metadata": {},
   "outputs": [],
   "source": [
    "def vi_matrix_factorization_model(filename, rank, iterations):\n",
    "    users_size, item_size, m, train_data, test_data = process_dataset(filename)\n",
    "    start = time.time()\n",
    "    mean_u, mean_v = variational_bayes(m, users_size, item_size, rank, train_data, iterations)\n",
    "    time_taken = (time.time() - start) \n",
    "    N = train_data.shape[0]\n",
    "    sum_error = 0\n",
    "    for i, j, score in train_data:\n",
    "        i = int(i)\n",
    "        j = int(j)\n",
    "        pred_value = np.dot(mean_u[i], mean_v[j].T)\n",
    "        sum_error += ((pred_value) - score) ** 2\n",
    "    rmse_train = math.sqrt(sum_error/N)\n",
    "    \n",
    "    N = test_data.shape[0]\n",
    "    sum_error = 0\n",
    "    for i, j, score in test_data:\n",
    "        i = int(i)\n",
    "        j = int(j)\n",
    "        pred_value = np.dot(mean_u[i], mean_v[j].T)\n",
    "        sum_error += ((pred_value) - score) ** 2\n",
    "    rmse_test = math.sqrt(sum_error/N)\n",
    "    return rmse_train, rmse_test, time_taken"
   ]
  },
  {
   "cell_type": "code",
   "execution_count": 7,
   "id": "c2f0ec8f",
   "metadata": {},
   "outputs": [
    {
     "name": "stdout",
     "output_type": "stream",
     "text": [
      "RMSE for Baseline model on data-40-20-2 dataset: 1.6038626145141004\n",
      "RMSE for Matrix factorization algorithm on data-40-20-2 dataset: 1.3328303442759568\n",
      "Time Taken: 0.4179878234863281\n"
     ]
    }
   ],
   "source": [
    "filename = \"hw2data/data-40-20-2.txt\"\n",
    "rank = 2\n",
    "it = 100\n",
    "rmse_train_matrixAlg, rmse_test_matrixAlg, time_taken = vi_matrix_factorization_model(filename, rank, it)\n",
    "rmse_baseline = baseline_model(filename)\n",
    "print(\"RMSE for Baseline model on data-40-20-2 dataset: \" + str(rmse_baseline))\n",
    "print(\"RMSE for Matrix factorization algorithm on data-40-20-2 dataset: \" + str(rmse_test_matrixAlg))\n",
    "print(\"Time Taken: \" + str(time_taken))"
   ]
  },
  {
   "cell_type": "code",
   "execution_count": 8,
   "id": "f33f2289",
   "metadata": {},
   "outputs": [],
   "source": [
    "def experiment_data_500_500_3_iterations(iterations):\n",
    "    filename = \"hw2data/data-500-500-3.txt\"\n",
    "    d = 3\n",
    "    rmse_train_list = []\n",
    "    rmse_test_list = []\n",
    "    time_list = []\n",
    "    for i in range(len(iterations)):\n",
    "        rmse_train, rmse_test, time_taken = vi_matrix_factorization_model(filename, d, iterations[i])\n",
    "        rmse_train_list.append(rmse_train)\n",
    "        rmse_test_list.append(rmse_test)\n",
    "        time_list.append(time_taken)\n",
    "    rmse_baseline = baseline_model(filename)\n",
    "    return rmse_train_list, rmse_test_list, rmse_baseline, time_list"
   ]
  },
  {
   "cell_type": "code",
   "execution_count": 9,
   "id": "a359ef76",
   "metadata": {},
   "outputs": [
    {
     "name": "stdout",
     "output_type": "stream",
     "text": [
      "RMSE for Baseline model on data-500-500-3 dataset:\n",
      "1.8085931611785533\n",
      "\n",
      "Trainset RMSE for Matrix factorization algorithm on data-500-500-3 dataset:\n",
      "[0.2350533238219942, 0.18651915195041363, 0.18653752665902773, 0.18649137254510384, 0.18648475872645406, 0.18648231692572093, 0.18648868486518597, 0.18647868221033498, 0.18648484576289592, 0.18647362085452987]\n",
      "\n",
      "Testset RMSE for Matrix factorization algorithm on data-500-500-3 dataset:\n",
      "[0.2805822726867546, 0.21449882923560504, 0.2145747104860485, 0.21452263044957218, 0.21451989099456598, 0.21453492728169743, 0.21454668961126128, 0.214521145852022, 0.21453186677499447, 0.21452204697207156]\n",
      "\n",
      "Time taken for each iterations on data-500-500-3 dataset:\n",
      "[95.00797533988953, 188.72331619262695, 284.1239380836487, 377.6744041442871, 475.4104208946228, 570.1608538627625, 662.579155921936, 759.1655380725861, 852.5149669647217, 776.8515269756317]\n",
      "\n"
     ]
    }
   ],
   "source": [
    "rmse_train_iterationList, rmse_test_iterationList, rmse_baseline, time_iterationList =  experiment_data_500_500_3_iterations(iterations)\n",
    "print(f'RMSE for Baseline model on data-500-500-3 dataset:\\n{rmse_baseline}\\n')\n",
    "print(f'Trainset RMSE for Matrix factorization algorithm on data-500-500-3 dataset:\\n{rmse_train_iterationList}\\n')\n",
    "print(f'Testset RMSE for Matrix factorization algorithm on data-500-500-3 dataset:\\n{rmse_test_iterationList}\\n')\n",
    "print(f'Time taken for each iterations on data-500-500-3 dataset:\\n{time_iterationList}\\n')"
   ]
  },
  {
   "cell_type": "code",
   "execution_count": 11,
   "id": "6ee0eb3c",
   "metadata": {},
   "outputs": [
    {
     "data": {
      "text/plain": [
       "<function matplotlib.pyplot.show(close=None, block=None)>"
      ]
     },
     "execution_count": 11,
     "metadata": {},
     "output_type": "execute_result"
    },
    {
     "data": {
      "image/png": "[encoded data removed]",
      "text/plain": [
       "<Figure size 432x288 with 1 Axes>"
      ]
     },
     "metadata": {
      "needs_background": "light"
     },
     "output_type": "display_data"
    }
   ],
   "source": [
    "plt.plot(iterations[:5], rmse_train_iterationList[:5], label = 'Trainset Error')\n",
    "plt.plot(iterations[:5], rmse_test_iterationList[:5], label = 'Testset Error')\n",
    "plt.title('Plot of RMSE for Matrix factorization algorithm for different iterations on data-500-500-3 Dataset') \n",
    "plt.ylabel('RMSE')\n",
    "plt.xlabel('Iterations')\n",
    "plt.legend(loc='best')\n",
    "plt.show"
   ]
  },
  {
   "cell_type": "code",
   "execution_count": 12,
   "id": "89d44c48",
   "metadata": {},
   "outputs": [
    {
     "data": {
      "text/plain": [
       "<function matplotlib.pyplot.show(close=None, block=None)>"
      ]
     },
     "execution_count": 12,
     "metadata": {},
     "output_type": "execute_result"
    },
    {
     "data": {
      "image/png": "[encoded data removed]",
      "text/plain": [
       "<Figure size 432x288 with 1 Axes>"
      ]
     },
     "metadata": {
      "needs_background": "light"
     },
     "output_type": "display_data"
    }
   ],
   "source": [
    "plt.plot(iterations, time_iterationList, label = 'Run time')\n",
    "plt.title('Plot of Run Time for Matrix factorization algorithm for different iterations on data-500-500-3 Dataset') \n",
    "plt.ylabel('Run Time')\n",
    "plt.xlabel('Iterations')\n",
    "plt.legend(loc='best')\n",
    "plt.show"
   ]
  }
 ],
 "metadata": {
  "kernelspec": {
   "display_name": "Python 3 (ipykernel)",
   "language": "python",
   "name": "python3"
  },
  "language_info": {
   "codemirror_mode": {
    "name": "ipython",
    "version": 3
   },
   "file_extension": ".py",
   "mimetype": "text/x-python",
   "name": "python",
   "nbconvert_exporter": "python",
   "pygments_lexer": "ipython3",
   "version": "3.9.12"
  }
 },
 "nbformat": 4,
 "nbformat_minor": 5
}
